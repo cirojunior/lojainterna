{
    "metadata": {
        "kernelspec": {
            "name": "SQL",
            "display_name": "SQL",
            "language": "sql"
        },
        "language_info": {
            "name": "sql",
            "version": ""
        }
    },
    "nbformat_minor": 2,
    "nbformat": 4,
    "cells": [
        {
            "cell_type": "markdown",
            "source": [
                "## **Criando estrutura de dados para LOJA DOS COLABORADORES.**\n",
                "\n",
                "Onde será possível fazer a compra dos produtos da empresa pelos funcionários.\n",
                "\n",
                "Vai ser criado um evendo no portal para que possa ser indicado os valores de compra.\n",
                "\n",
                "Terá um fluxo onde será possível solicitar os produtos listados na consulta 2 e na sequencia passará por aprovações até chegar ao final onde precisará que alguém digite o pedido no [mercanet](.\\resources\\app\\out\\vs\\code\\electron-browser\\mercanet.herc.com.br\\Mercanet). \n",
                "\n",
                "PS.: Na primeira compra é preciso passar os dados para o crédito e cadastro cadastrar o funcionário no SAP para ser possível fazer pedido, faturamento e lançar nas contas contábeis corretas.\n",
                "\n",
                "PPS.: O colaborador só poderá comprar inicialmente 5% do valor bruto da sua renda, dado conforme consulta 1."
            ],
            "metadata": {
                "azdata_cell_guid": "97f8966a-98c2-4c11-b7c2-01d9c327a847"
            }
        },
        {
            "cell_type": "markdown",
            "source": [
                "### **1 - Consultar Saldo disponível para compra.**"
            ],
            "metadata": {
                "azdata_cell_guid": "329692d3-13f0-4c30-9912-adbbb102862f"
            }
        },
        {
            "cell_type": "markdown",
            "source": [
                "### **2 - Consultando lista de preço do mercanet.**"
            ],
            "metadata": {
                "azdata_cell_guid": "4397e398-bb22-4c90-ac6f-44e4407644ee"
            }
        },
        {
            "cell_type": "code",
            "source": [
                "select ListaPROD.DB_PRECOP_PRODUTO as Produto, \n",
                "       Produto.db_prod_descricao as Produto_nome,\n",
                "       round( ListaPROD.DB_PRECOP_VALOR + (ListaPROD.DB_PRECOP_VALOR * (Produto.DB_PROD_IPI / 100)),2 ) as Valor\n",
                "from atlas.mercanethml.dbo.DB_PRECO_PROD as ListaPROD,\n",
                "     atlas.mercanethml.dbo.DB_PRODUTO as Produto\n",
                "where ListaPROD.db_precop_codigo = '01'\n",
                "and ListaPROD.DB_PRECOP_PRODUTO = Produto.db_prod_codigo\n",
                "and ListaPROD.DB_PRECOP_PRODUTO not like ('9000%')\n",
                ";"
            ],
            "metadata": {
                "azdata_cell_guid": "1026c378-3173-4dac-8eb8-71376260f132",
                "tags": []
            },
            "outputs": [],
            "execution_count": null
        }
    ]
}